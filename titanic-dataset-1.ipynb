{
 "cells": [
  {
   "cell_type": "code",
   "execution_count": 1,
   "id": "2940e22d",
   "metadata": {
    "execution": {
     "iopub.execute_input": "2022-01-02T13:33:33.514322Z",
     "iopub.status.busy": "2022-01-02T13:33:33.513656Z",
     "iopub.status.idle": "2022-01-02T13:33:33.655810Z",
     "shell.execute_reply": "2022-01-02T13:33:33.654475Z",
     "shell.execute_reply.started": "2022-01-02T05:43:29.300241Z"
    },
    "papermill": {
     "duration": 0.197332,
     "end_time": "2022-01-02T13:33:33.656047",
     "exception": false,
     "start_time": "2022-01-02T13:33:33.458715",
     "status": "completed"
    },
    "tags": []
   },
   "outputs": [
    {
     "name": "stdout",
     "output_type": "stream",
     "text": [
      "../input/titanic/train.csv\n",
      "../input/titanic/test.csv\n",
      "../input/titanic/gender_submission.csv\n"
     ]
    },
    {
     "data": {
      "text/html": [
       "<div>\n",
       "<style scoped>\n",
       "    .dataframe tbody tr th:only-of-type {\n",
       "        vertical-align: middle;\n",
       "    }\n",
       "\n",
       "    .dataframe tbody tr th {\n",
       "        vertical-align: top;\n",
       "    }\n",
       "\n",
       "    .dataframe thead th {\n",
       "        text-align: right;\n",
       "    }\n",
       "</style>\n",
       "<table border=\"1\" class=\"dataframe\">\n",
       "  <thead>\n",
       "    <tr style=\"text-align: right;\">\n",
       "      <th></th>\n",
       "      <th>PassengerId</th>\n",
       "      <th>Survived</th>\n",
       "      <th>Pclass</th>\n",
       "      <th>Name</th>\n",
       "      <th>Sex</th>\n",
       "      <th>Age</th>\n",
       "      <th>SibSp</th>\n",
       "      <th>Parch</th>\n",
       "      <th>Ticket</th>\n",
       "      <th>Fare</th>\n",
       "      <th>Cabin</th>\n",
       "      <th>Embarked</th>\n",
       "    </tr>\n",
       "  </thead>\n",
       "  <tbody>\n",
       "    <tr>\n",
       "      <th>0</th>\n",
       "      <td>1</td>\n",
       "      <td>0</td>\n",
       "      <td>3</td>\n",
       "      <td>Braund, Mr. Owen Harris</td>\n",
       "      <td>male</td>\n",
       "      <td>22.0</td>\n",
       "      <td>1</td>\n",
       "      <td>0</td>\n",
       "      <td>A/5 21171</td>\n",
       "      <td>7.2500</td>\n",
       "      <td>NaN</td>\n",
       "      <td>S</td>\n",
       "    </tr>\n",
       "    <tr>\n",
       "      <th>1</th>\n",
       "      <td>2</td>\n",
       "      <td>1</td>\n",
       "      <td>1</td>\n",
       "      <td>Cumings, Mrs. John Bradley (Florence Briggs Th...</td>\n",
       "      <td>female</td>\n",
       "      <td>38.0</td>\n",
       "      <td>1</td>\n",
       "      <td>0</td>\n",
       "      <td>PC 17599</td>\n",
       "      <td>71.2833</td>\n",
       "      <td>C85</td>\n",
       "      <td>C</td>\n",
       "    </tr>\n",
       "    <tr>\n",
       "      <th>2</th>\n",
       "      <td>3</td>\n",
       "      <td>1</td>\n",
       "      <td>3</td>\n",
       "      <td>Heikkinen, Miss. Laina</td>\n",
       "      <td>female</td>\n",
       "      <td>26.0</td>\n",
       "      <td>0</td>\n",
       "      <td>0</td>\n",
       "      <td>STON/O2. 3101282</td>\n",
       "      <td>7.9250</td>\n",
       "      <td>NaN</td>\n",
       "      <td>S</td>\n",
       "    </tr>\n",
       "    <tr>\n",
       "      <th>3</th>\n",
       "      <td>4</td>\n",
       "      <td>1</td>\n",
       "      <td>1</td>\n",
       "      <td>Futrelle, Mrs. Jacques Heath (Lily May Peel)</td>\n",
       "      <td>female</td>\n",
       "      <td>35.0</td>\n",
       "      <td>1</td>\n",
       "      <td>0</td>\n",
       "      <td>113803</td>\n",
       "      <td>53.1000</td>\n",
       "      <td>C123</td>\n",
       "      <td>S</td>\n",
       "    </tr>\n",
       "    <tr>\n",
       "      <th>4</th>\n",
       "      <td>5</td>\n",
       "      <td>0</td>\n",
       "      <td>3</td>\n",
       "      <td>Allen, Mr. William Henry</td>\n",
       "      <td>male</td>\n",
       "      <td>35.0</td>\n",
       "      <td>0</td>\n",
       "      <td>0</td>\n",
       "      <td>373450</td>\n",
       "      <td>8.0500</td>\n",
       "      <td>NaN</td>\n",
       "      <td>S</td>\n",
       "    </tr>\n",
       "  </tbody>\n",
       "</table>\n",
       "</div>"
      ],
      "text/plain": [
       "   PassengerId  Survived  Pclass  \\\n",
       "0            1         0       3   \n",
       "1            2         1       1   \n",
       "2            3         1       3   \n",
       "3            4         1       1   \n",
       "4            5         0       3   \n",
       "\n",
       "                                                Name     Sex   Age  SibSp  \\\n",
       "0                            Braund, Mr. Owen Harris    male  22.0      1   \n",
       "1  Cumings, Mrs. John Bradley (Florence Briggs Th...  female  38.0      1   \n",
       "2                             Heikkinen, Miss. Laina  female  26.0      0   \n",
       "3       Futrelle, Mrs. Jacques Heath (Lily May Peel)  female  35.0      1   \n",
       "4                           Allen, Mr. William Henry    male  35.0      0   \n",
       "\n",
       "   Parch            Ticket     Fare Cabin Embarked  \n",
       "0      0         A/5 21171   7.2500   NaN        S  \n",
       "1      0          PC 17599  71.2833   C85        C  \n",
       "2      0  STON/O2. 3101282   7.9250   NaN        S  \n",
       "3      0            113803  53.1000  C123        S  \n",
       "4      0            373450   8.0500   NaN        S  "
      ]
     },
     "execution_count": 1,
     "metadata": {},
     "output_type": "execute_result"
    }
   ],
   "source": [
    "import os\n",
    "import numpy as np\n",
    "import pandas as pd\n",
    "for dirname, _, filenames in os.walk('../input/titanic'):\n",
    "    for filename in filenames:\n",
    "        print(os.path.join(dirname, filename))\n",
    "data=pd.read_csv(\"../input/titanic/train.csv\")\n",
    "data.head()"
   ]
  },
  {
   "cell_type": "code",
   "execution_count": 2,
   "id": "6ed728d3",
   "metadata": {
    "execution": {
     "iopub.execute_input": "2022-01-02T13:33:33.750209Z",
     "iopub.status.busy": "2022-01-02T13:33:33.749469Z",
     "iopub.status.idle": "2022-01-02T13:33:33.753069Z",
     "shell.execute_reply": "2022-01-02T13:33:33.752486Z",
     "shell.execute_reply.started": "2022-01-02T05:43:29.426778Z"
    },
    "papermill": {
     "duration": 0.053894,
     "end_time": "2022-01-02T13:33:33.753257",
     "exception": false,
     "start_time": "2022-01-02T13:33:33.699363",
     "status": "completed"
    },
    "tags": []
   },
   "outputs": [
    {
     "data": {
      "text/plain": [
       "(891, 12)"
      ]
     },
     "execution_count": 2,
     "metadata": {},
     "output_type": "execute_result"
    }
   ],
   "source": [
    "data.shape"
   ]
  },
  {
   "cell_type": "code",
   "execution_count": 3,
   "id": "094bf813",
   "metadata": {
    "execution": {
     "iopub.execute_input": "2022-01-02T13:33:33.851782Z",
     "iopub.status.busy": "2022-01-02T13:33:33.847256Z",
     "iopub.status.idle": "2022-01-02T13:33:33.883731Z",
     "shell.execute_reply": "2022-01-02T13:33:33.883029Z",
     "shell.execute_reply.started": "2022-01-02T05:43:29.434712Z"
    },
    "papermill": {
     "duration": 0.087887,
     "end_time": "2022-01-02T13:33:33.883918",
     "exception": false,
     "start_time": "2022-01-02T13:33:33.796031",
     "status": "completed"
    },
    "tags": []
   },
   "outputs": [
    {
     "data": {
      "text/html": [
       "<div>\n",
       "<style scoped>\n",
       "    .dataframe tbody tr th:only-of-type {\n",
       "        vertical-align: middle;\n",
       "    }\n",
       "\n",
       "    .dataframe tbody tr th {\n",
       "        vertical-align: top;\n",
       "    }\n",
       "\n",
       "    .dataframe thead th {\n",
       "        text-align: right;\n",
       "    }\n",
       "</style>\n",
       "<table border=\"1\" class=\"dataframe\">\n",
       "  <thead>\n",
       "    <tr style=\"text-align: right;\">\n",
       "      <th></th>\n",
       "      <th>PassengerId</th>\n",
       "      <th>Survived</th>\n",
       "      <th>Pclass</th>\n",
       "      <th>Age</th>\n",
       "      <th>SibSp</th>\n",
       "      <th>Parch</th>\n",
       "      <th>Fare</th>\n",
       "    </tr>\n",
       "  </thead>\n",
       "  <tbody>\n",
       "    <tr>\n",
       "      <th>count</th>\n",
       "      <td>891.000000</td>\n",
       "      <td>891.000000</td>\n",
       "      <td>891.000000</td>\n",
       "      <td>714.000000</td>\n",
       "      <td>891.000000</td>\n",
       "      <td>891.000000</td>\n",
       "      <td>891.000000</td>\n",
       "    </tr>\n",
       "    <tr>\n",
       "      <th>mean</th>\n",
       "      <td>446.000000</td>\n",
       "      <td>0.383838</td>\n",
       "      <td>2.308642</td>\n",
       "      <td>29.699118</td>\n",
       "      <td>0.523008</td>\n",
       "      <td>0.381594</td>\n",
       "      <td>32.204208</td>\n",
       "    </tr>\n",
       "    <tr>\n",
       "      <th>std</th>\n",
       "      <td>257.353842</td>\n",
       "      <td>0.486592</td>\n",
       "      <td>0.836071</td>\n",
       "      <td>14.526497</td>\n",
       "      <td>1.102743</td>\n",
       "      <td>0.806057</td>\n",
       "      <td>49.693429</td>\n",
       "    </tr>\n",
       "    <tr>\n",
       "      <th>min</th>\n",
       "      <td>1.000000</td>\n",
       "      <td>0.000000</td>\n",
       "      <td>1.000000</td>\n",
       "      <td>0.420000</td>\n",
       "      <td>0.000000</td>\n",
       "      <td>0.000000</td>\n",
       "      <td>0.000000</td>\n",
       "    </tr>\n",
       "    <tr>\n",
       "      <th>25%</th>\n",
       "      <td>223.500000</td>\n",
       "      <td>0.000000</td>\n",
       "      <td>2.000000</td>\n",
       "      <td>20.125000</td>\n",
       "      <td>0.000000</td>\n",
       "      <td>0.000000</td>\n",
       "      <td>7.910400</td>\n",
       "    </tr>\n",
       "    <tr>\n",
       "      <th>50%</th>\n",
       "      <td>446.000000</td>\n",
       "      <td>0.000000</td>\n",
       "      <td>3.000000</td>\n",
       "      <td>28.000000</td>\n",
       "      <td>0.000000</td>\n",
       "      <td>0.000000</td>\n",
       "      <td>14.454200</td>\n",
       "    </tr>\n",
       "    <tr>\n",
       "      <th>75%</th>\n",
       "      <td>668.500000</td>\n",
       "      <td>1.000000</td>\n",
       "      <td>3.000000</td>\n",
       "      <td>38.000000</td>\n",
       "      <td>1.000000</td>\n",
       "      <td>0.000000</td>\n",
       "      <td>31.000000</td>\n",
       "    </tr>\n",
       "    <tr>\n",
       "      <th>max</th>\n",
       "      <td>891.000000</td>\n",
       "      <td>1.000000</td>\n",
       "      <td>3.000000</td>\n",
       "      <td>80.000000</td>\n",
       "      <td>8.000000</td>\n",
       "      <td>6.000000</td>\n",
       "      <td>512.329200</td>\n",
       "    </tr>\n",
       "  </tbody>\n",
       "</table>\n",
       "</div>"
      ],
      "text/plain": [
       "       PassengerId    Survived      Pclass         Age       SibSp  \\\n",
       "count   891.000000  891.000000  891.000000  714.000000  891.000000   \n",
       "mean    446.000000    0.383838    2.308642   29.699118    0.523008   \n",
       "std     257.353842    0.486592    0.836071   14.526497    1.102743   \n",
       "min       1.000000    0.000000    1.000000    0.420000    0.000000   \n",
       "25%     223.500000    0.000000    2.000000   20.125000    0.000000   \n",
       "50%     446.000000    0.000000    3.000000   28.000000    0.000000   \n",
       "75%     668.500000    1.000000    3.000000   38.000000    1.000000   \n",
       "max     891.000000    1.000000    3.000000   80.000000    8.000000   \n",
       "\n",
       "            Parch        Fare  \n",
       "count  891.000000  891.000000  \n",
       "mean     0.381594   32.204208  \n",
       "std      0.806057   49.693429  \n",
       "min      0.000000    0.000000  \n",
       "25%      0.000000    7.910400  \n",
       "50%      0.000000   14.454200  \n",
       "75%      0.000000   31.000000  \n",
       "max      6.000000  512.329200  "
      ]
     },
     "execution_count": 3,
     "metadata": {},
     "output_type": "execute_result"
    }
   ],
   "source": [
    "data.describe()"
   ]
  },
  {
   "cell_type": "code",
   "execution_count": 4,
   "id": "5489c2d2",
   "metadata": {
    "execution": {
     "iopub.execute_input": "2022-01-02T13:33:33.976252Z",
     "iopub.status.busy": "2022-01-02T13:33:33.975298Z",
     "iopub.status.idle": "2022-01-02T13:33:33.978533Z",
     "shell.execute_reply": "2022-01-02T13:33:33.977829Z",
     "shell.execute_reply.started": "2022-01-02T05:43:29.472162Z"
    },
    "papermill": {
     "duration": 0.053229,
     "end_time": "2022-01-02T13:33:33.978695",
     "exception": false,
     "start_time": "2022-01-02T13:33:33.925466",
     "status": "completed"
    },
    "tags": []
   },
   "outputs": [],
   "source": [
    "data=data.drop([\"Name\"],axis=1)"
   ]
  },
  {
   "cell_type": "code",
   "execution_count": 5,
   "id": "19134e29",
   "metadata": {
    "execution": {
     "iopub.execute_input": "2022-01-02T13:33:34.076649Z",
     "iopub.status.busy": "2022-01-02T13:33:34.075655Z",
     "iopub.status.idle": "2022-01-02T13:33:34.080348Z",
     "shell.execute_reply": "2022-01-02T13:33:34.079743Z",
     "shell.execute_reply.started": "2022-01-02T05:43:29.478331Z"
    },
    "papermill": {
     "duration": 0.055941,
     "end_time": "2022-01-02T13:33:34.080511",
     "exception": false,
     "start_time": "2022-01-02T13:33:34.024570",
     "status": "completed"
    },
    "tags": []
   },
   "outputs": [
    {
     "data": {
      "text/plain": [
       "PassengerId      0\n",
       "Survived         0\n",
       "Pclass           0\n",
       "Sex              0\n",
       "Age            177\n",
       "SibSp            0\n",
       "Parch            0\n",
       "Ticket           0\n",
       "Fare             0\n",
       "Cabin          687\n",
       "Embarked         2\n",
       "dtype: int64"
      ]
     },
     "execution_count": 5,
     "metadata": {},
     "output_type": "execute_result"
    }
   ],
   "source": [
    "data.isna().sum()"
   ]
  },
  {
   "cell_type": "markdown",
   "id": "a7442b5c",
   "metadata": {
    "papermill": {
     "duration": 0.041563,
     "end_time": "2022-01-02T13:33:34.164265",
     "exception": false,
     "start_time": "2022-01-02T13:33:34.122702",
     "status": "completed"
    },
    "tags": []
   },
   "source": [
    "**Since the column Cabin has Maximum number of Null values which is not possible to debug ,so we can drop this Column.**"
   ]
  },
  {
   "cell_type": "code",
   "execution_count": 6,
   "id": "98b8262a",
   "metadata": {
    "execution": {
     "iopub.execute_input": "2022-01-02T13:33:34.255030Z",
     "iopub.status.busy": "2022-01-02T13:33:34.254036Z",
     "iopub.status.idle": "2022-01-02T13:33:34.258149Z",
     "shell.execute_reply": "2022-01-02T13:33:34.257099Z",
     "shell.execute_reply.started": "2022-01-02T05:43:29.49838Z"
    },
    "papermill": {
     "duration": 0.052039,
     "end_time": "2022-01-02T13:33:34.258338",
     "exception": false,
     "start_time": "2022-01-02T13:33:34.206299",
     "status": "completed"
    },
    "tags": []
   },
   "outputs": [],
   "source": [
    "data=data.drop({\"Cabin\",\"Ticket\"},axis=1)"
   ]
  },
  {
   "cell_type": "code",
   "execution_count": 7,
   "id": "45e9cfcf",
   "metadata": {
    "execution": {
     "iopub.execute_input": "2022-01-02T13:33:34.371456Z",
     "iopub.status.busy": "2022-01-02T13:33:34.370361Z",
     "iopub.status.idle": "2022-01-02T13:33:34.374558Z",
     "shell.execute_reply": "2022-01-02T13:33:34.375330Z",
     "shell.execute_reply.started": "2022-01-02T05:43:29.511425Z"
    },
    "papermill": {
     "duration": 0.07148,
     "end_time": "2022-01-02T13:33:34.375635",
     "exception": false,
     "start_time": "2022-01-02T13:33:34.304155",
     "status": "completed"
    },
    "tags": []
   },
   "outputs": [],
   "source": [
    "data.fillna(data.median(),inplace=True)"
   ]
  },
  {
   "cell_type": "markdown",
   "id": "6457d989",
   "metadata": {
    "papermill": {
     "duration": 0.039918,
     "end_time": "2022-01-02T13:33:34.457300",
     "exception": false,
     "start_time": "2022-01-02T13:33:34.417382",
     "status": "completed"
    },
    "tags": []
   },
   "source": [
    "# Visualizing the Datas"
   ]
  },
  {
   "cell_type": "code",
   "execution_count": 8,
   "id": "eb193b4d",
   "metadata": {
    "execution": {
     "iopub.execute_input": "2022-01-02T13:33:34.545262Z",
     "iopub.status.busy": "2022-01-02T13:33:34.544561Z",
     "iopub.status.idle": "2022-01-02T13:33:35.464911Z",
     "shell.execute_reply": "2022-01-02T13:33:35.464325Z",
     "shell.execute_reply.started": "2022-01-02T05:43:29.528621Z"
    },
    "papermill": {
     "duration": 0.966623,
     "end_time": "2022-01-02T13:33:35.465072",
     "exception": false,
     "start_time": "2022-01-02T13:33:34.498449",
     "status": "completed"
    },
    "tags": []
   },
   "outputs": [],
   "source": [
    "import matplotlib.pyplot as plt\n",
    "import seaborn as sns"
   ]
  },
  {
   "cell_type": "code",
   "execution_count": 9,
   "id": "0be99084",
   "metadata": {
    "execution": {
     "iopub.execute_input": "2022-01-02T13:33:35.560119Z",
     "iopub.status.busy": "2022-01-02T13:33:35.555406Z",
     "iopub.status.idle": "2022-01-02T13:33:35.816077Z",
     "shell.execute_reply": "2022-01-02T13:33:35.815427Z",
     "shell.execute_reply.started": "2022-01-02T05:43:30.352983Z"
    },
    "papermill": {
     "duration": 0.310742,
     "end_time": "2022-01-02T13:33:35.816222",
     "exception": false,
     "start_time": "2022-01-02T13:33:35.505480",
     "status": "completed"
    },
    "tags": []
   },
   "outputs": [
    {
     "data": {
      "text/plain": [
       "<AxesSubplot:xlabel='Sex', ylabel='Survived'>"
      ]
     },
     "execution_count": 9,
     "metadata": {},
     "output_type": "execute_result"
    },
    {
     "data": {
      "image/png": "[encoded data removed]",
      "text/plain": [
       "<Figure size 432x288 with 1 Axes>"
      ]
     },
     "metadata": {
      "needs_background": "light"
     },
     "output_type": "display_data"
    }
   ],
   "source": [
    "sns.barplot(x=\"Sex\",y=\"Survived\",data=data)"
   ]
  },
  {
   "cell_type": "code",
   "execution_count": 10,
   "id": "375147d8",
   "metadata": {
    "execution": {
     "iopub.execute_input": "2022-01-02T13:33:35.904289Z",
     "iopub.status.busy": "2022-01-02T13:33:35.903636Z",
     "iopub.status.idle": "2022-01-02T13:33:36.166506Z",
     "shell.execute_reply": "2022-01-02T13:33:36.167033Z",
     "shell.execute_reply.started": "2022-01-02T05:43:30.549411Z"
    },
    "papermill": {
     "duration": 0.309844,
     "end_time": "2022-01-02T13:33:36.167231",
     "exception": false,
     "start_time": "2022-01-02T13:33:35.857387",
     "status": "completed"
    },
    "tags": []
   },
   "outputs": [
    {
     "data": {
      "text/plain": [
       "<AxesSubplot:xlabel='Pclass', ylabel='Survived'>"
      ]
     },
     "execution_count": 10,
     "metadata": {},
     "output_type": "execute_result"
    },
    {
     "data": {
      "image/png": "[encoded data removed]",
      "text/plain": [
       "<Figure size 432x288 with 1 Axes>"
      ]
     },
     "metadata": {
      "needs_background": "light"
     },
     "output_type": "display_data"
    }
   ],
   "source": [
    "sns.barplot(x='Pclass',y='Survived',data=data)"
   ]
  },
  {
   "cell_type": "code",
   "execution_count": 11,
   "id": "676cbe25",
   "metadata": {
    "execution": {
     "iopub.execute_input": "2022-01-02T13:33:36.254452Z",
     "iopub.status.busy": "2022-01-02T13:33:36.253817Z",
     "iopub.status.idle": "2022-01-02T13:33:36.673809Z",
     "shell.execute_reply": "2022-01-02T13:33:36.673142Z",
     "shell.execute_reply.started": "2022-01-02T05:43:30.784885Z"
    },
    "papermill": {
     "duration": 0.464923,
     "end_time": "2022-01-02T13:33:36.673998",
     "exception": false,
     "start_time": "2022-01-02T13:33:36.209075",
     "status": "completed"
    },
    "tags": []
   },
   "outputs": [
    {
     "data": {
      "text/plain": [
       "<AxesSubplot:xlabel='SibSp', ylabel='Survived'>"
      ]
     },
     "execution_count": 11,
     "metadata": {},
     "output_type": "execute_result"
    },
    {
     "data": {
      "image/png": "[encoded data removed]",
      "text/plain": [
       "<Figure size 432x288 with 1 Axes>"
      ]
     },
     "metadata": {
      "needs_background": "light"
     },
     "output_type": "display_data"
    }
   ],
   "source": [
    "sns.barplot(x='SibSp',y='Survived',data=data)"
   ]
  },
  {
   "cell_type": "code",
   "execution_count": 12,
   "id": "91df930e",
   "metadata": {
    "execution": {
     "iopub.execute_input": "2022-01-02T13:33:36.764803Z",
     "iopub.status.busy": "2022-01-02T13:33:36.763749Z",
     "iopub.status.idle": "2022-01-02T13:33:37.024152Z",
     "shell.execute_reply": "2022-01-02T13:33:37.024655Z",
     "shell.execute_reply.started": "2022-01-02T05:43:31.202328Z"
    },
    "papermill": {
     "duration": 0.307713,
     "end_time": "2022-01-02T13:33:37.024871",
     "exception": false,
     "start_time": "2022-01-02T13:33:36.717158",
     "status": "completed"
    },
    "tags": []
   },
   "outputs": [
    {
     "data": {
      "text/plain": [
       "<AxesSubplot:xlabel='Embarked', ylabel='Survived'>"
      ]
     },
     "execution_count": 12,
     "metadata": {},
     "output_type": "execute_result"
    },
    {
     "data": {
      "image/png": "[encoded data removed]",
      "text/plain": [
       "<Figure size 432x288 with 1 Axes>"
      ]
     },
     "metadata": {
      "needs_background": "light"
     },
     "output_type": "display_data"
    }
   ],
   "source": [
    "sns.barplot(x='Embarked',y='Survived',data=data)"
   ]
  },
  {
   "cell_type": "markdown",
   "id": "9b867c53",
   "metadata": {
    "papermill": {
     "duration": 0.043482,
     "end_time": "2022-01-02T13:33:37.112813",
     "exception": false,
     "start_time": "2022-01-02T13:33:37.069331",
     "status": "completed"
    },
    "tags": []
   },
   "source": [
    "**Filling Null values in Embarked Column and Convert it into Integers**"
   ]
  },
  {
   "cell_type": "code",
   "execution_count": 13,
   "id": "44f39658",
   "metadata": {
    "execution": {
     "iopub.execute_input": "2022-01-02T13:33:37.207209Z",
     "iopub.status.busy": "2022-01-02T13:33:37.206510Z",
     "iopub.status.idle": "2022-01-02T13:33:37.208944Z",
     "shell.execute_reply": "2022-01-02T13:33:37.209523Z",
     "shell.execute_reply.started": "2022-01-02T05:43:31.444701Z"
    },
    "papermill": {
     "duration": 0.053203,
     "end_time": "2022-01-02T13:33:37.209688",
     "exception": false,
     "start_time": "2022-01-02T13:33:37.156485",
     "status": "completed"
    },
    "tags": []
   },
   "outputs": [],
   "source": [
    "data[\"Embarked\"].fillna('S',inplace=True)"
   ]
  },
  {
   "cell_type": "code",
   "execution_count": 14,
   "id": "723a9dd4",
   "metadata": {
    "execution": {
     "iopub.execute_input": "2022-01-02T13:33:37.301378Z",
     "iopub.status.busy": "2022-01-02T13:33:37.300697Z",
     "iopub.status.idle": "2022-01-02T13:33:37.307370Z",
     "shell.execute_reply": "2022-01-02T13:33:37.307951Z",
     "shell.execute_reply.started": "2022-01-02T05:43:31.450245Z"
    },
    "papermill": {
     "duration": 0.054128,
     "end_time": "2022-01-02T13:33:37.308115",
     "exception": false,
     "start_time": "2022-01-02T13:33:37.253987",
     "status": "completed"
    },
    "tags": []
   },
   "outputs": [],
   "source": [
    "data[\"Embarked\"].replace({'S':1,'Q':2,'C':3},inplace=True)"
   ]
  },
  {
   "cell_type": "code",
   "execution_count": 15,
   "id": "2abca63e",
   "metadata": {
    "execution": {
     "iopub.execute_input": "2022-01-02T13:33:37.399506Z",
     "iopub.status.busy": "2022-01-02T13:33:37.398825Z",
     "iopub.status.idle": "2022-01-02T13:33:37.417623Z",
     "shell.execute_reply": "2022-01-02T13:33:37.417106Z",
     "shell.execute_reply.started": "2022-01-02T05:43:31.464275Z"
    },
    "papermill": {
     "duration": 0.065696,
     "end_time": "2022-01-02T13:33:37.417774",
     "exception": false,
     "start_time": "2022-01-02T13:33:37.352078",
     "status": "completed"
    },
    "tags": []
   },
   "outputs": [
    {
     "name": "stdout",
     "output_type": "stream",
     "text": [
      "<class 'pandas.core.frame.DataFrame'>\n",
      "RangeIndex: 891 entries, 0 to 890\n",
      "Data columns (total 9 columns):\n",
      " #   Column       Non-Null Count  Dtype  \n",
      "---  ------       --------------  -----  \n",
      " 0   PassengerId  891 non-null    int64  \n",
      " 1   Survived     891 non-null    int64  \n",
      " 2   Pclass       891 non-null    int64  \n",
      " 3   Sex          891 non-null    object \n",
      " 4   Age          891 non-null    float64\n",
      " 5   SibSp        891 non-null    int64  \n",
      " 6   Parch        891 non-null    int64  \n",
      " 7   Fare         891 non-null    float64\n",
      " 8   Embarked     891 non-null    int64  \n",
      "dtypes: float64(2), int64(6), object(1)\n",
      "memory usage: 62.8+ KB\n"
     ]
    }
   ],
   "source": [
    "data.info()"
   ]
  },
  {
   "cell_type": "markdown",
   "id": "b51927d9",
   "metadata": {
    "papermill": {
     "duration": 0.044004,
     "end_time": "2022-01-02T13:33:37.506095",
     "exception": false,
     "start_time": "2022-01-02T13:33:37.462091",
     "status": "completed"
    },
    "tags": []
   },
   "source": [
    "**Now we Converted every columns into a float and Integers.**"
   ]
  },
  {
   "cell_type": "markdown",
   "id": "9da10717",
   "metadata": {
    "papermill": {
     "duration": 0.044201,
     "end_time": "2022-01-02T13:33:37.595352",
     "exception": false,
     "start_time": "2022-01-02T13:33:37.551151",
     "status": "completed"
    },
    "tags": []
   },
   "source": []
  },
  {
   "cell_type": "markdown",
   "id": "4a85e66e",
   "metadata": {
    "papermill": {
     "duration": 0.044087,
     "end_time": "2022-01-02T13:33:37.684745",
     "exception": false,
     "start_time": "2022-01-02T13:33:37.640658",
     "status": "completed"
    },
    "tags": []
   },
   "source": [
    "# Finding and Correcting Outliers"
   ]
  },
  {
   "cell_type": "code",
   "execution_count": 16,
   "id": "86b1f2f5",
   "metadata": {
    "execution": {
     "iopub.execute_input": "2022-01-02T13:33:37.780119Z",
     "iopub.status.busy": "2022-01-02T13:33:37.779463Z",
     "iopub.status.idle": "2022-01-02T13:33:37.786953Z",
     "shell.execute_reply": "2022-01-02T13:33:37.787458Z",
     "shell.execute_reply.started": "2022-01-02T05:43:31.489663Z"
    },
    "papermill": {
     "duration": 0.058266,
     "end_time": "2022-01-02T13:33:37.787643",
     "exception": false,
     "start_time": "2022-01-02T13:33:37.729377",
     "status": "completed"
    },
    "tags": []
   },
   "outputs": [
    {
     "data": {
      "text/plain": [
       "PassengerId    0.000000\n",
       "Survived       0.478523\n",
       "Pclass        -0.630548\n",
       "Age            0.510245\n",
       "SibSp          3.695352\n",
       "Parch          2.749117\n",
       "Fare           4.787317\n",
       "Embarked       1.264823\n",
       "dtype: float64"
      ]
     },
     "execution_count": 16,
     "metadata": {},
     "output_type": "execute_result"
    }
   ],
   "source": [
    "data.skew()"
   ]
  },
  {
   "cell_type": "code",
   "execution_count": 17,
   "id": "6a147225",
   "metadata": {
    "execution": {
     "iopub.execute_input": "2022-01-02T13:33:37.888586Z",
     "iopub.status.busy": "2022-01-02T13:33:37.887192Z",
     "iopub.status.idle": "2022-01-02T13:33:37.917985Z",
     "shell.execute_reply": "2022-01-02T13:33:37.918522Z",
     "shell.execute_reply.started": "2022-01-02T05:43:31.500441Z"
    },
    "papermill": {
     "duration": 0.086063,
     "end_time": "2022-01-02T13:33:37.918711",
     "exception": false,
     "start_time": "2022-01-02T13:33:37.832648",
     "status": "completed"
    },
    "tags": []
   },
   "outputs": [],
   "source": [
    "data['Age']=data['Age'].clip(lower=data['Age'].quantile(0.05),upper=data['Age'].quantile(0.95))\n",
    "data['SibSp']=data['SibSp'].clip(lower=data['SibSp'].quantile(0.05),upper=data['SibSp'].quantile(0.95))\n",
    "data['Parch']=data['Parch'].clip(lower=data['Parch'].quantile(0.05),upper=data['Parch'].quantile(0.95))\n",
    "data['Fare']=data['Fare'].clip(lower=data['Fare'].quantile(0.05),upper=data['Fare'].quantile(0.95))"
   ]
  },
  {
   "cell_type": "code",
   "execution_count": 18,
   "id": "2940d732",
   "metadata": {
    "execution": {
     "iopub.execute_input": "2022-01-02T13:33:38.013180Z",
     "iopub.status.busy": "2022-01-02T13:33:38.012505Z",
     "iopub.status.idle": "2022-01-02T13:33:38.461553Z",
     "shell.execute_reply": "2022-01-02T13:33:38.460989Z",
     "shell.execute_reply.started": "2022-01-02T05:43:31.538532Z"
    },
    "papermill": {
     "duration": 0.496677,
     "end_time": "2022-01-02T13:33:38.461693",
     "exception": false,
     "start_time": "2022-01-02T13:33:37.965016",
     "status": "completed"
    },
    "tags": []
   },
   "outputs": [
    {
     "data": {
      "text/plain": [
       "<AxesSubplot:xlabel='Fare'>"
      ]
     },
     "execution_count": 18,
     "metadata": {},
     "output_type": "execute_result"
    },
    {
     "data": {
      "image/png": "[encoded data removed]",
      "text/plain": [
       "<Figure size 1440x1080 with 4 Axes>"
      ]
     },
     "metadata": {
      "needs_background": "light"
     },
     "output_type": "display_data"
    }
   ],
   "source": [
    "import warnings\n",
    "warnings.filterwarnings('ignore')\n",
    "plt.figure(figsize=(20,15))\n",
    "plt.subplot(4,4,1)\n",
    "sns.boxplot(data['Age'])\n",
    "plt.subplot(4,4,2)\n",
    "sns.boxplot(data['SibSp'])\n",
    "plt.subplot(4,4,3)\n",
    "sns.boxplot(data['Parch'])\n",
    "plt.subplot(4,4,4)\n",
    "sns.boxplot(data['Fare'])"
   ]
  },
  {
   "cell_type": "code",
   "execution_count": 19,
   "id": "1e40bc24",
   "metadata": {
    "execution": {
     "iopub.execute_input": "2022-01-02T13:33:38.557355Z",
     "iopub.status.busy": "2022-01-02T13:33:38.556632Z",
     "iopub.status.idle": "2022-01-02T13:33:38.565178Z",
     "shell.execute_reply": "2022-01-02T13:33:38.565695Z",
     "shell.execute_reply.started": "2022-01-02T05:43:31.870048Z"
    },
    "papermill": {
     "duration": 0.058141,
     "end_time": "2022-01-02T13:33:38.565935",
     "exception": false,
     "start_time": "2022-01-02T13:33:38.507794",
     "status": "completed"
    },
    "tags": []
   },
   "outputs": [],
   "source": [
    "data['Fare']=data['Fare'].clip(lower=data['Fare'].quantile(0.15),upper=data['Fare'].quantile(0.85))"
   ]
  },
  {
   "cell_type": "code",
   "execution_count": 20,
   "id": "bf39a688",
   "metadata": {
    "execution": {
     "iopub.execute_input": "2022-01-02T13:33:38.661592Z",
     "iopub.status.busy": "2022-01-02T13:33:38.660993Z",
     "iopub.status.idle": "2022-01-02T13:33:38.670009Z",
     "shell.execute_reply": "2022-01-02T13:33:38.670560Z",
     "shell.execute_reply.started": "2022-01-02T05:43:31.881954Z"
    },
    "papermill": {
     "duration": 0.058654,
     "end_time": "2022-01-02T13:33:38.670748",
     "exception": false,
     "start_time": "2022-01-02T13:33:38.612094",
     "status": "completed"
    },
    "tags": []
   },
   "outputs": [],
   "source": [
    "data['SibSp']=data['SibSp'].clip(lower=data['SibSp'].quantile(0.07),upper=data['SibSp'].quantile(0.93))"
   ]
  },
  {
   "cell_type": "code",
   "execution_count": 21,
   "id": "b64ed0ab",
   "metadata": {
    "execution": {
     "iopub.execute_input": "2022-01-02T13:33:38.766792Z",
     "iopub.status.busy": "2022-01-02T13:33:38.766176Z",
     "iopub.status.idle": "2022-01-02T13:33:39.168152Z",
     "shell.execute_reply": "2022-01-02T13:33:39.168698Z",
     "shell.execute_reply.started": "2022-01-02T05:43:31.896529Z"
    },
    "papermill": {
     "duration": 0.452687,
     "end_time": "2022-01-02T13:33:39.168921",
     "exception": false,
     "start_time": "2022-01-02T13:33:38.716234",
     "status": "completed"
    },
    "tags": []
   },
   "outputs": [
    {
     "data": {
      "text/plain": [
       "<AxesSubplot:xlabel='Fare'>"
      ]
     },
     "execution_count": 21,
     "metadata": {},
     "output_type": "execute_result"
    },
    {
     "data": {
      "image/png": "[encoded data removed]",
      "text/plain": [
       "<Figure size 1440x1080 with 2 Axes>"
      ]
     },
     "metadata": {
      "needs_background": "light"
     },
     "output_type": "display_data"
    }
   ],
   "source": [
    "plt.figure(figsize=(20,15))\n",
    "plt.subplot(4,4,1)\n",
    "sns.boxplot(data['SibSp'])\n",
    "plt.subplot(4,4,3)\n",
    "sns.boxplot(data['Fare'])"
   ]
  },
  {
   "cell_type": "code",
   "execution_count": 22,
   "id": "dcb8bb77",
   "metadata": {
    "execution": {
     "iopub.execute_input": "2022-01-02T13:33:39.267073Z",
     "iopub.status.busy": "2022-01-02T13:33:39.266368Z",
     "iopub.status.idle": "2022-01-02T13:33:39.275174Z",
     "shell.execute_reply": "2022-01-02T13:33:39.275785Z",
     "shell.execute_reply.started": "2022-01-02T05:43:32.271838Z"
    },
    "papermill": {
     "duration": 0.059919,
     "end_time": "2022-01-02T13:33:39.275983",
     "exception": false,
     "start_time": "2022-01-02T13:33:39.216064",
     "status": "completed"
    },
    "tags": []
   },
   "outputs": [
    {
     "data": {
      "text/plain": [
       "PassengerId    0.000000\n",
       "Survived       0.478523\n",
       "Pclass        -0.630548\n",
       "Age            0.280973\n",
       "SibSp          1.339934\n",
       "Parch          1.679480\n",
       "Fare           0.944933\n",
       "Embarked       1.264823\n",
       "dtype: float64"
      ]
     },
     "execution_count": 22,
     "metadata": {},
     "output_type": "execute_result"
    }
   ],
   "source": [
    "data.skew()"
   ]
  },
  {
   "cell_type": "markdown",
   "id": "acb2993e",
   "metadata": {
    "papermill": {
     "duration": 0.046285,
     "end_time": "2022-01-02T13:33:39.370051",
     "exception": false,
     "start_time": "2022-01-02T13:33:39.323766",
     "status": "completed"
    },
    "tags": []
   },
   "source": [
    "**Checking Datas using correlation Heatmap**"
   ]
  },
  {
   "cell_type": "code",
   "execution_count": 23,
   "id": "e3b7f8b6",
   "metadata": {
    "execution": {
     "iopub.execute_input": "2022-01-02T13:33:39.466773Z",
     "iopub.status.busy": "2022-01-02T13:33:39.466179Z",
     "iopub.status.idle": "2022-01-02T13:33:40.073346Z",
     "shell.execute_reply": "2022-01-02T13:33:40.073829Z",
     "shell.execute_reply.started": "2022-01-02T05:43:32.282989Z"
    },
    "papermill": {
     "duration": 0.657133,
     "end_time": "2022-01-02T13:33:40.074052",
     "exception": false,
     "start_time": "2022-01-02T13:33:39.416919",
     "status": "completed"
    },
    "tags": []
   },
   "outputs": [
    {
     "data": {
      "image/png": "[encoded data removed]",
      "text/plain": [
       "<Figure size 720x720 with 2 Axes>"
      ]
     },
     "metadata": {
      "needs_background": "light"
     },
     "output_type": "display_data"
    }
   ],
   "source": [
    "corr=data.corr()\n",
    "plt.figure(figsize=(10,10))\n",
    "sns.heatmap(corr,annot=True,cmap=\"coolwarm\")\n",
    "plt.show()"
   ]
  },
  {
   "cell_type": "code",
   "execution_count": 24,
   "id": "e8074430",
   "metadata": {
    "execution": {
     "iopub.execute_input": "2022-01-02T13:33:40.180565Z",
     "iopub.status.busy": "2022-01-02T13:33:40.179730Z",
     "iopub.status.idle": "2022-01-02T13:33:40.182967Z",
     "shell.execute_reply": "2022-01-02T13:33:40.182328Z",
     "shell.execute_reply.started": "2022-01-02T05:43:32.792483Z"
    },
    "papermill": {
     "duration": 0.05983,
     "end_time": "2022-01-02T13:33:40.183140",
     "exception": false,
     "start_time": "2022-01-02T13:33:40.123310",
     "status": "completed"
    },
    "tags": []
   },
   "outputs": [],
   "source": [
    "data['Sex'].replace({'male':1,'female':2},inplace=True)"
   ]
  },
  {
   "cell_type": "markdown",
   "id": "41c60e4a",
   "metadata": {
    "papermill": {
     "duration": 0.048765,
     "end_time": "2022-01-02T13:33:40.282706",
     "exception": false,
     "start_time": "2022-01-02T13:33:40.233941",
     "status": "completed"
    },
    "tags": []
   },
   "source": [
    "# Training and Model Creation"
   ]
  },
  {
   "cell_type": "code",
   "execution_count": 25,
   "id": "9d94418f",
   "metadata": {
    "execution": {
     "iopub.execute_input": "2022-01-02T13:33:40.389800Z",
     "iopub.status.busy": "2022-01-02T13:33:40.389078Z",
     "iopub.status.idle": "2022-01-02T13:33:40.392408Z",
     "shell.execute_reply": "2022-01-02T13:33:40.391735Z",
     "shell.execute_reply.started": "2022-01-02T05:43:32.801334Z"
    },
    "papermill": {
     "duration": 0.060313,
     "end_time": "2022-01-02T13:33:40.392566",
     "exception": false,
     "start_time": "2022-01-02T13:33:40.332253",
     "status": "completed"
    },
    "tags": []
   },
   "outputs": [],
   "source": [
    "trainx=data.loc[:,data.columns!='Survived'].values[:,0:]\n",
    "trainy=data['Survived'].values"
   ]
  },
  {
   "cell_type": "code",
   "execution_count": 26,
   "id": "3ea1aaef",
   "metadata": {
    "execution": {
     "iopub.execute_input": "2022-01-02T13:33:40.497398Z",
     "iopub.status.busy": "2022-01-02T13:33:40.496644Z",
     "iopub.status.idle": "2022-01-02T13:33:40.523148Z",
     "shell.execute_reply": "2022-01-02T13:33:40.523655Z",
     "shell.execute_reply.started": "2022-01-02T05:43:32.816488Z"
    },
    "papermill": {
     "duration": 0.081114,
     "end_time": "2022-01-02T13:33:40.523889",
     "exception": false,
     "start_time": "2022-01-02T13:33:40.442775",
     "status": "completed"
    },
    "tags": []
   },
   "outputs": [
    {
     "data": {
      "text/html": [
       "<div>\n",
       "<style scoped>\n",
       "    .dataframe tbody tr th:only-of-type {\n",
       "        vertical-align: middle;\n",
       "    }\n",
       "\n",
       "    .dataframe tbody tr th {\n",
       "        vertical-align: top;\n",
       "    }\n",
       "\n",
       "    .dataframe thead th {\n",
       "        text-align: right;\n",
       "    }\n",
       "</style>\n",
       "<table border=\"1\" class=\"dataframe\">\n",
       "  <thead>\n",
       "    <tr style=\"text-align: right;\">\n",
       "      <th></th>\n",
       "      <th>PassengerId</th>\n",
       "      <th>Pclass</th>\n",
       "      <th>Name</th>\n",
       "      <th>Sex</th>\n",
       "      <th>Age</th>\n",
       "      <th>SibSp</th>\n",
       "      <th>Parch</th>\n",
       "      <th>Ticket</th>\n",
       "      <th>Fare</th>\n",
       "      <th>Cabin</th>\n",
       "      <th>Embarked</th>\n",
       "    </tr>\n",
       "  </thead>\n",
       "  <tbody>\n",
       "    <tr>\n",
       "      <th>0</th>\n",
       "      <td>892</td>\n",
       "      <td>3</td>\n",
       "      <td>Kelly, Mr. James</td>\n",
       "      <td>male</td>\n",
       "      <td>34.5</td>\n",
       "      <td>0</td>\n",
       "      <td>0</td>\n",
       "      <td>330911</td>\n",
       "      <td>7.8292</td>\n",
       "      <td>NaN</td>\n",
       "      <td>Q</td>\n",
       "    </tr>\n",
       "    <tr>\n",
       "      <th>1</th>\n",
       "      <td>893</td>\n",
       "      <td>3</td>\n",
       "      <td>Wilkes, Mrs. James (Ellen Needs)</td>\n",
       "      <td>female</td>\n",
       "      <td>47.0</td>\n",
       "      <td>1</td>\n",
       "      <td>0</td>\n",
       "      <td>363272</td>\n",
       "      <td>7.0000</td>\n",
       "      <td>NaN</td>\n",
       "      <td>S</td>\n",
       "    </tr>\n",
       "    <tr>\n",
       "      <th>2</th>\n",
       "      <td>894</td>\n",
       "      <td>2</td>\n",
       "      <td>Myles, Mr. Thomas Francis</td>\n",
       "      <td>male</td>\n",
       "      <td>62.0</td>\n",
       "      <td>0</td>\n",
       "      <td>0</td>\n",
       "      <td>240276</td>\n",
       "      <td>9.6875</td>\n",
       "      <td>NaN</td>\n",
       "      <td>Q</td>\n",
       "    </tr>\n",
       "    <tr>\n",
       "      <th>3</th>\n",
       "      <td>895</td>\n",
       "      <td>3</td>\n",
       "      <td>Wirz, Mr. Albert</td>\n",
       "      <td>male</td>\n",
       "      <td>27.0</td>\n",
       "      <td>0</td>\n",
       "      <td>0</td>\n",
       "      <td>315154</td>\n",
       "      <td>8.6625</td>\n",
       "      <td>NaN</td>\n",
       "      <td>S</td>\n",
       "    </tr>\n",
       "    <tr>\n",
       "      <th>4</th>\n",
       "      <td>896</td>\n",
       "      <td>3</td>\n",
       "      <td>Hirvonen, Mrs. Alexander (Helga E Lindqvist)</td>\n",
       "      <td>female</td>\n",
       "      <td>22.0</td>\n",
       "      <td>1</td>\n",
       "      <td>1</td>\n",
       "      <td>3101298</td>\n",
       "      <td>12.2875</td>\n",
       "      <td>NaN</td>\n",
       "      <td>S</td>\n",
       "    </tr>\n",
       "  </tbody>\n",
       "</table>\n",
       "</div>"
      ],
      "text/plain": [
       "   PassengerId  Pclass                                          Name     Sex  \\\n",
       "0          892       3                              Kelly, Mr. James    male   \n",
       "1          893       3              Wilkes, Mrs. James (Ellen Needs)  female   \n",
       "2          894       2                     Myles, Mr. Thomas Francis    male   \n",
       "3          895       3                              Wirz, Mr. Albert    male   \n",
       "4          896       3  Hirvonen, Mrs. Alexander (Helga E Lindqvist)  female   \n",
       "\n",
       "    Age  SibSp  Parch   Ticket     Fare Cabin Embarked  \n",
       "0  34.5      0      0   330911   7.8292   NaN        Q  \n",
       "1  47.0      1      0   363272   7.0000   NaN        S  \n",
       "2  62.0      0      0   240276   9.6875   NaN        Q  \n",
       "3  27.0      0      0   315154   8.6625   NaN        S  \n",
       "4  22.0      1      1  3101298  12.2875   NaN        S  "
      ]
     },
     "execution_count": 26,
     "metadata": {},
     "output_type": "execute_result"
    }
   ],
   "source": [
    "test=pd.read_csv(\"../input/titanic/test.csv\")\n",
    "test.head()"
   ]
  },
  {
   "cell_type": "code",
   "execution_count": 27,
   "id": "b0dc86be",
   "metadata": {
    "execution": {
     "iopub.execute_input": "2022-01-02T13:33:40.628640Z",
     "iopub.status.busy": "2022-01-02T13:33:40.627507Z",
     "iopub.status.idle": "2022-01-02T13:33:40.633306Z",
     "shell.execute_reply": "2022-01-02T13:33:40.633764Z",
     "shell.execute_reply.started": "2022-01-02T05:43:32.85347Z"
    },
    "papermill": {
     "duration": 0.05987,
     "end_time": "2022-01-02T13:33:40.633977",
     "exception": false,
     "start_time": "2022-01-02T13:33:40.574107",
     "status": "completed"
    },
    "tags": []
   },
   "outputs": [],
   "source": [
    "test=test.drop({\"Name\",\"Cabin\",\"Ticket\"},axis=1)"
   ]
  },
  {
   "cell_type": "code",
   "execution_count": 28,
   "id": "eeca4947",
   "metadata": {
    "execution": {
     "iopub.execute_input": "2022-01-02T13:33:40.739265Z",
     "iopub.status.busy": "2022-01-02T13:33:40.738292Z",
     "iopub.status.idle": "2022-01-02T13:33:40.745535Z",
     "shell.execute_reply": "2022-01-02T13:33:40.746006Z",
     "shell.execute_reply.started": "2022-01-02T05:43:32.860673Z"
    },
    "papermill": {
     "duration": 0.060706,
     "end_time": "2022-01-02T13:33:40.746178",
     "exception": false,
     "start_time": "2022-01-02T13:33:40.685472",
     "status": "completed"
    },
    "tags": []
   },
   "outputs": [],
   "source": [
    "test.replace({\"S\":1,\"Q\":2,\"C\":3,\"male\":1,\"female\":2},inplace=True)"
   ]
  },
  {
   "cell_type": "code",
   "execution_count": 29,
   "id": "59d7f677",
   "metadata": {
    "execution": {
     "iopub.execute_input": "2022-01-02T13:33:40.850878Z",
     "iopub.status.busy": "2022-01-02T13:33:40.849831Z",
     "iopub.status.idle": "2022-01-02T13:33:40.855046Z",
     "shell.execute_reply": "2022-01-02T13:33:40.855499Z",
     "shell.execute_reply.started": "2022-01-02T05:43:32.876644Z"
    },
    "papermill": {
     "duration": 0.060072,
     "end_time": "2022-01-02T13:33:40.855669",
     "exception": false,
     "start_time": "2022-01-02T13:33:40.795597",
     "status": "completed"
    },
    "tags": []
   },
   "outputs": [],
   "source": [
    "test.fillna(data.median(),inplace=True)"
   ]
  },
  {
   "cell_type": "code",
   "execution_count": 30,
   "id": "c3ffc4ed",
   "metadata": {
    "execution": {
     "iopub.execute_input": "2022-01-02T13:33:40.963087Z",
     "iopub.status.busy": "2022-01-02T13:33:40.962422Z",
     "iopub.status.idle": "2022-01-02T13:33:40.967860Z",
     "shell.execute_reply": "2022-01-02T13:33:40.968369Z",
     "shell.execute_reply.started": "2022-01-02T05:43:32.894263Z"
    },
    "papermill": {
     "duration": 0.061893,
     "end_time": "2022-01-02T13:33:40.968537",
     "exception": false,
     "start_time": "2022-01-02T13:33:40.906644",
     "status": "completed"
    },
    "tags": []
   },
   "outputs": [
    {
     "data": {
      "text/plain": [
       "PassengerId    0\n",
       "Pclass         0\n",
       "Sex            0\n",
       "Age            0\n",
       "SibSp          0\n",
       "Parch          0\n",
       "Fare           0\n",
       "Embarked       0\n",
       "dtype: int64"
      ]
     },
     "execution_count": 30,
     "metadata": {},
     "output_type": "execute_result"
    }
   ],
   "source": [
    "test.isna().sum()"
   ]
  },
  {
   "cell_type": "code",
   "execution_count": 31,
   "id": "b457d2e1",
   "metadata": {
    "execution": {
     "iopub.execute_input": "2022-01-02T13:33:41.075634Z",
     "iopub.status.busy": "2022-01-02T13:33:41.075006Z",
     "iopub.status.idle": "2022-01-02T13:33:41.076933Z",
     "shell.execute_reply": "2022-01-02T13:33:41.077405Z",
     "shell.execute_reply.started": "2022-01-02T05:43:32.910213Z"
    },
    "papermill": {
     "duration": 0.057347,
     "end_time": "2022-01-02T13:33:41.077567",
     "exception": false,
     "start_time": "2022-01-02T13:33:41.020220",
     "status": "completed"
    },
    "tags": []
   },
   "outputs": [],
   "source": [
    "testx=test.values[:,0:]"
   ]
  },
  {
   "cell_type": "markdown",
   "id": "21f65284",
   "metadata": {
    "papermill": {
     "duration": 0.04914,
     "end_time": "2022-01-02T13:33:41.176743",
     "exception": false,
     "start_time": "2022-01-02T13:33:41.127603",
     "status": "completed"
    },
    "tags": []
   },
   "source": [
    "# Importing Naive-Bayes Algorithm"
   ]
  },
  {
   "cell_type": "code",
   "execution_count": 32,
   "id": "bb3fce7a",
   "metadata": {
    "execution": {
     "iopub.execute_input": "2022-01-02T13:33:41.280900Z",
     "iopub.status.busy": "2022-01-02T13:33:41.280240Z",
     "iopub.status.idle": "2022-01-02T13:33:41.456134Z",
     "shell.execute_reply": "2022-01-02T13:33:41.455493Z",
     "shell.execute_reply.started": "2022-01-02T05:43:32.919489Z"
    },
    "papermill": {
     "duration": 0.229943,
     "end_time": "2022-01-02T13:33:41.456280",
     "exception": false,
     "start_time": "2022-01-02T13:33:41.226337",
     "status": "completed"
    },
    "tags": []
   },
   "outputs": [],
   "source": [
    "from sklearn.naive_bayes import GaussianNB\n",
    "from sklearn.metrics import accuracy_score"
   ]
  },
  {
   "cell_type": "code",
   "execution_count": 33,
   "id": "8acea9ed",
   "metadata": {
    "execution": {
     "iopub.execute_input": "2022-01-02T13:33:41.563654Z",
     "iopub.status.busy": "2022-01-02T13:33:41.563016Z",
     "iopub.status.idle": "2022-01-02T13:33:41.564699Z",
     "shell.execute_reply": "2022-01-02T13:33:41.565180Z",
     "shell.execute_reply.started": "2022-01-02T05:43:33.10516Z"
    },
    "papermill": {
     "duration": 0.057468,
     "end_time": "2022-01-02T13:33:41.565350",
     "exception": false,
     "start_time": "2022-01-02T13:33:41.507882",
     "status": "completed"
    },
    "tags": []
   },
   "outputs": [],
   "source": [
    "model=GaussianNB()"
   ]
  },
  {
   "cell_type": "code",
   "execution_count": 34,
   "id": "6ece460c",
   "metadata": {
    "execution": {
     "iopub.execute_input": "2022-01-02T13:33:41.669132Z",
     "iopub.status.busy": "2022-01-02T13:33:41.668394Z",
     "iopub.status.idle": "2022-01-02T13:33:41.677444Z",
     "shell.execute_reply": "2022-01-02T13:33:41.677974Z",
     "shell.execute_reply.started": "2022-01-02T05:43:33.110338Z"
    },
    "papermill": {
     "duration": 0.062526,
     "end_time": "2022-01-02T13:33:41.678145",
     "exception": false,
     "start_time": "2022-01-02T13:33:41.615619",
     "status": "completed"
    },
    "tags": []
   },
   "outputs": [
    {
     "name": "stdout",
     "output_type": "stream",
     "text": [
      "[0 0 0 0 1 0 1 0 1 0 0 0 1 0 1 1 0 0 0 1 1 0 1 1 1 0 1 0 0 0 0 0 1 1 1 0 0\n",
      " 0 0 0 0 0 0 1 1 0 1 0 1 1 1 0 1 1 0 0 0 0 0 1 0 0 0 1 1 1 1 0 1 1 1 0 0 1\n",
      " 1 1 0 1 0 1 0 1 0 0 0 0 1 0 1 0 1 0 1 0 1 0 1 0 0 0 1 0 0 0 1 0 0 0 0 0 0\n",
      " 1 1 1 1 0 0 1 1 1 1 0 1 0 0 1 0 1 0 0 0 1 1 0 0 0 0 0 0 1 0 1 1 0 0 0 1 0\n",
      " 0 0 1 0 0 1 0 0 1 0 0 1 1 0 1 0 0 1 1 0 1 0 0 0 0 0 1 1 1 1 1 1 0 1 1 0 1\n",
      " 0 1 0 0 0 0 0 0 0 0 0 1 0 0 0 1 0 1 1 0 1 1 0 1 0 0 0 1 1 0 0 1 1 1 0 1 0\n",
      " 1 0 1 1 0 1 0 0 1 1 0 0 1 0 1 0 1 1 1 1 1 0 0 1 1 0 1 1 1 0 1 0 0 0 0 0 1\n",
      " 0 0 0 1 1 0 0 0 0 0 0 1 0 1 1 0 1 0 0 0 0 0 0 1 1 1 0 0 1 0 0 0 1 0 1 0 0\n",
      " 1 0 0 0 0 0 0 0 1 1 1 0 1 0 0 0 0 0 1 1 1 0 0 0 0 0 0 0 1 0 1 1 0 0 1 1 0\n",
      " 1 0 0 0 0 0 0 0 0 1 1 0 0 0 1 0 1 1 0 1 1 1 0 1 0 0 0 0 1 1 0 1 1 0 1 1 0\n",
      " 0 1 0 0 1 1 0 0 1 0 0 0 0 0 0 1 0 0 0 0 1 1 0 0 0 1 0 1 0 0 1 0 1 0 1 0 0\n",
      " 1 0 1 0 1 0 0 1 0 0 0]\n",
      "(418,)\n"
     ]
    }
   ],
   "source": [
    "model.fit(trainx,trainy)\n",
    "s=model.predict(testx)\n",
    "print(s)\n",
    "print(s.shape)"
   ]
  },
  {
   "cell_type": "markdown",
   "id": "87f05768",
   "metadata": {
    "papermill": {
     "duration": 0.049612,
     "end_time": "2022-01-02T13:33:41.778314",
     "exception": false,
     "start_time": "2022-01-02T13:33:41.728702",
     "status": "completed"
    },
    "tags": []
   },
   "source": [
    "**SUPPORT VECTOR MACHINE**"
   ]
  },
  {
   "cell_type": "code",
   "execution_count": 35,
   "id": "f566ddca",
   "metadata": {
    "execution": {
     "iopub.execute_input": "2022-01-02T13:33:41.885058Z",
     "iopub.status.busy": "2022-01-02T13:33:41.884368Z",
     "iopub.status.idle": "2022-01-02T13:33:41.981322Z",
     "shell.execute_reply": "2022-01-02T13:33:41.980639Z",
     "shell.execute_reply.started": "2022-01-02T05:44:43.96813Z"
    },
    "papermill": {
     "duration": 0.152913,
     "end_time": "2022-01-02T13:33:41.981490",
     "exception": false,
     "start_time": "2022-01-02T13:33:41.828577",
     "status": "completed"
    },
    "tags": []
   },
   "outputs": [],
   "source": [
    "from sklearn import svm"
   ]
  },
  {
   "cell_type": "code",
   "execution_count": 36,
   "id": "8110253d",
   "metadata": {
    "execution": {
     "iopub.execute_input": "2022-01-02T13:33:42.086687Z",
     "iopub.status.busy": "2022-01-02T13:33:42.086015Z",
     "iopub.status.idle": "2022-01-02T13:33:42.130577Z",
     "shell.execute_reply": "2022-01-02T13:33:42.131187Z",
     "shell.execute_reply.started": "2022-01-02T05:47:01.428084Z"
    },
    "papermill": {
     "duration": 0.098308,
     "end_time": "2022-01-02T13:33:42.131411",
     "exception": false,
     "start_time": "2022-01-02T13:33:42.033103",
     "status": "completed"
    },
    "tags": []
   },
   "outputs": [],
   "source": [
    "model2=svm.SVC()\n",
    "model2.fit(trainx,trainy)\n",
    "s1=model2.predict(testx)"
   ]
  },
  {
   "cell_type": "code",
   "execution_count": 37,
   "id": "52a9d01c",
   "metadata": {
    "execution": {
     "iopub.execute_input": "2022-01-02T13:33:42.239781Z",
     "iopub.status.busy": "2022-01-02T13:33:42.239147Z",
     "iopub.status.idle": "2022-01-02T13:33:42.246545Z",
     "shell.execute_reply": "2022-01-02T13:33:42.247070Z",
     "shell.execute_reply.started": "2022-01-02T05:47:10.525575Z"
    },
    "papermill": {
     "duration": 0.063467,
     "end_time": "2022-01-02T13:33:42.247290",
     "exception": false,
     "start_time": "2022-01-02T13:33:42.183823",
     "status": "completed"
    },
    "tags": []
   },
   "outputs": [
    {
     "data": {
      "text/plain": [
       "array([0, 0, 0, 0, 0, 0, 0, 0, 0, 0, 0, 0, 0, 0, 0, 0, 0, 0, 0, 0, 0, 0,\n",
       "       0, 0, 1, 0, 0, 0, 0, 0, 0, 0, 0, 0, 0, 0, 0, 0, 0, 0, 0, 0, 0, 0,\n",
       "       0, 0, 0, 0, 0, 0, 0, 0, 0, 1, 0, 0, 0, 0, 0, 1, 0, 0, 0, 0, 1, 0,\n",
       "       0, 0, 0, 1, 0, 0, 0, 0, 1, 1, 0, 0, 0, 0, 0, 1, 0, 0, 0, 0, 0, 0,\n",
       "       0, 0, 0, 0, 0, 0, 0, 0, 0, 0, 0, 0, 0, 0, 0, 0, 0, 0, 0, 0, 0, 0,\n",
       "       0, 0, 0, 0, 1, 0, 0, 0, 0, 0, 0, 0, 0, 0, 0, 0, 0, 0, 0, 0, 0, 0,\n",
       "       0, 0, 0, 0, 0, 0, 0, 0, 0, 1, 1, 0, 0, 0, 0, 0, 0, 0, 0, 0, 0, 0,\n",
       "       0, 0, 1, 0, 0, 0, 0, 0, 0, 0, 0, 0, 0, 0, 0, 0, 0, 0, 0, 0, 0, 0,\n",
       "       0, 0, 0, 0, 0, 0, 0, 0, 1, 0, 0, 0, 0, 0, 0, 0, 0, 0, 0, 0, 0, 0,\n",
       "       0, 0, 0, 0, 1, 0, 0, 0, 0, 0, 0, 0, 0, 0, 0, 0, 0, 0, 0, 0, 1, 0,\n",
       "       0, 0, 0, 0, 0, 0, 0, 0, 0, 0, 0, 0, 0, 0, 0, 0, 0, 0, 0, 0, 0, 0,\n",
       "       0, 0, 0, 0, 0, 0, 0, 0, 0, 0, 0, 0, 0, 0, 0, 0, 0, 0, 0, 0, 0, 0,\n",
       "       0, 0, 0, 0, 0, 0, 0, 0, 0, 0, 0, 0, 0, 0, 0, 0, 0, 0, 0, 0, 0, 0,\n",
       "       0, 0, 0, 0, 0, 0, 0, 0, 0, 0, 0, 0, 0, 0, 0, 0, 0, 0, 0, 0, 0, 0,\n",
       "       0, 0, 0, 0, 0, 0, 0, 0, 0, 0, 0, 0, 0, 0, 0, 0, 0, 0, 0, 0, 0, 0,\n",
       "       0, 0, 0, 0, 0, 0, 0, 0, 0, 0, 0, 0, 0, 0, 0, 0, 0, 0, 0, 0, 0, 0,\n",
       "       0, 0, 0, 0, 0, 0, 0, 0, 0, 0, 0, 0, 0, 0, 0, 0, 0, 0, 0, 0, 0, 0,\n",
       "       0, 0, 0, 0, 0, 0, 0, 0, 0, 0, 0, 0, 0, 0, 0, 0, 0, 0, 0, 0, 0, 0,\n",
       "       0, 0, 0, 0, 0, 0, 0, 0, 0, 0, 0, 0, 0, 0, 0, 0, 0, 0, 0, 0, 0, 0])"
      ]
     },
     "execution_count": 37,
     "metadata": {},
     "output_type": "execute_result"
    }
   ],
   "source": [
    "s1"
   ]
  },
  {
   "cell_type": "markdown",
   "id": "21218505",
   "metadata": {
    "papermill": {
     "duration": 0.05237,
     "end_time": "2022-01-02T13:33:42.357440",
     "exception": false,
     "start_time": "2022-01-02T13:33:42.305070",
     "status": "completed"
    },
    "tags": []
   },
   "source": [
    "***SUBMISSION FILE***"
   ]
  },
  {
   "cell_type": "code",
   "execution_count": 38,
   "id": "f6db1cf5",
   "metadata": {
    "execution": {
     "iopub.execute_input": "2022-01-02T13:33:42.466077Z",
     "iopub.status.busy": "2022-01-02T13:33:42.465409Z",
     "iopub.status.idle": "2022-01-02T13:33:42.468470Z",
     "shell.execute_reply": "2022-01-02T13:33:42.467975Z",
     "shell.execute_reply.started": "2022-01-02T05:47:20.316349Z"
    },
    "papermill": {
     "duration": 0.060142,
     "end_time": "2022-01-02T13:33:42.468623",
     "exception": false,
     "start_time": "2022-01-02T13:33:42.408481",
     "status": "completed"
    },
    "tags": []
   },
   "outputs": [],
   "source": [
    "submission=pd.DataFrame({\"PassengerId\":test[\"PassengerId\"].values,\"Survived\":s1})"
   ]
  },
  {
   "cell_type": "code",
   "execution_count": 39,
   "id": "6770eeb3",
   "metadata": {
    "execution": {
     "iopub.execute_input": "2022-01-02T13:33:42.581748Z",
     "iopub.status.busy": "2022-01-02T13:33:42.581090Z",
     "iopub.status.idle": "2022-01-02T13:33:42.584324Z",
     "shell.execute_reply": "2022-01-02T13:33:42.584768Z",
     "shell.execute_reply.started": "2022-01-02T05:47:44.428893Z"
    },
    "papermill": {
     "duration": 0.064535,
     "end_time": "2022-01-02T13:33:42.585001",
     "exception": false,
     "start_time": "2022-01-02T13:33:42.520466",
     "status": "completed"
    },
    "tags": []
   },
   "outputs": [
    {
     "data": {
      "text/html": [
       "<div>\n",
       "<style scoped>\n",
       "    .dataframe tbody tr th:only-of-type {\n",
       "        vertical-align: middle;\n",
       "    }\n",
       "\n",
       "    .dataframe tbody tr th {\n",
       "        vertical-align: top;\n",
       "    }\n",
       "\n",
       "    .dataframe thead th {\n",
       "        text-align: right;\n",
       "    }\n",
       "</style>\n",
       "<table border=\"1\" class=\"dataframe\">\n",
       "  <thead>\n",
       "    <tr style=\"text-align: right;\">\n",
       "      <th></th>\n",
       "      <th>PassengerId</th>\n",
       "      <th>Survived</th>\n",
       "    </tr>\n",
       "  </thead>\n",
       "  <tbody>\n",
       "    <tr>\n",
       "      <th>0</th>\n",
       "      <td>892</td>\n",
       "      <td>0</td>\n",
       "    </tr>\n",
       "    <tr>\n",
       "      <th>1</th>\n",
       "      <td>893</td>\n",
       "      <td>0</td>\n",
       "    </tr>\n",
       "    <tr>\n",
       "      <th>2</th>\n",
       "      <td>894</td>\n",
       "      <td>0</td>\n",
       "    </tr>\n",
       "    <tr>\n",
       "      <th>3</th>\n",
       "      <td>895</td>\n",
       "      <td>0</td>\n",
       "    </tr>\n",
       "    <tr>\n",
       "      <th>4</th>\n",
       "      <td>896</td>\n",
       "      <td>0</td>\n",
       "    </tr>\n",
       "    <tr>\n",
       "      <th>5</th>\n",
       "      <td>897</td>\n",
       "      <td>0</td>\n",
       "    </tr>\n",
       "    <tr>\n",
       "      <th>6</th>\n",
       "      <td>898</td>\n",
       "      <td>0</td>\n",
       "    </tr>\n",
       "    <tr>\n",
       "      <th>7</th>\n",
       "      <td>899</td>\n",
       "      <td>0</td>\n",
       "    </tr>\n",
       "    <tr>\n",
       "      <th>8</th>\n",
       "      <td>900</td>\n",
       "      <td>0</td>\n",
       "    </tr>\n",
       "    <tr>\n",
       "      <th>9</th>\n",
       "      <td>901</td>\n",
       "      <td>0</td>\n",
       "    </tr>\n",
       "  </tbody>\n",
       "</table>\n",
       "</div>"
      ],
      "text/plain": [
       "   PassengerId  Survived\n",
       "0          892         0\n",
       "1          893         0\n",
       "2          894         0\n",
       "3          895         0\n",
       "4          896         0\n",
       "5          897         0\n",
       "6          898         0\n",
       "7          899         0\n",
       "8          900         0\n",
       "9          901         0"
      ]
     },
     "execution_count": 39,
     "metadata": {},
     "output_type": "execute_result"
    }
   ],
   "source": [
    "submission.head(10)"
   ]
  },
  {
   "cell_type": "code",
   "execution_count": 40,
   "id": "4c825079",
   "metadata": {
    "execution": {
     "iopub.execute_input": "2022-01-02T13:33:42.694409Z",
     "iopub.status.busy": "2022-01-02T13:33:42.693695Z",
     "iopub.status.idle": "2022-01-02T13:33:42.696697Z",
     "shell.execute_reply": "2022-01-02T13:33:42.697226Z",
     "shell.execute_reply.started": "2022-01-02T05:47:49.738569Z"
    },
    "papermill": {
     "duration": 0.061125,
     "end_time": "2022-01-02T13:33:42.697404",
     "exception": false,
     "start_time": "2022-01-02T13:33:42.636279",
     "status": "completed"
    },
    "tags": []
   },
   "outputs": [
    {
     "data": {
      "text/plain": [
       "(418, 2)"
      ]
     },
     "execution_count": 40,
     "metadata": {},
     "output_type": "execute_result"
    }
   ],
   "source": [
    "submission.shape"
   ]
  },
  {
   "cell_type": "code",
   "execution_count": 41,
   "id": "6828fe67",
   "metadata": {
    "execution": {
     "iopub.execute_input": "2022-01-02T13:33:42.805919Z",
     "iopub.status.busy": "2022-01-02T13:33:42.804944Z",
     "iopub.status.idle": "2022-01-02T13:33:42.811597Z",
     "shell.execute_reply": "2022-01-02T13:33:42.812201Z",
     "shell.execute_reply.started": "2022-01-02T05:47:51.08273Z"
    },
    "papermill": {
     "duration": 0.063869,
     "end_time": "2022-01-02T13:33:42.812378",
     "exception": false,
     "start_time": "2022-01-02T13:33:42.748509",
     "status": "completed"
    },
    "tags": []
   },
   "outputs": [],
   "source": [
    "submission.to_csv('submission21.csv',index = False)"
   ]
  },
  {
   "cell_type": "markdown",
   "id": "4a446147",
   "metadata": {
    "papermill": {
     "duration": 0.051499,
     "end_time": "2022-01-02T13:33:42.915498",
     "exception": false,
     "start_time": "2022-01-02T13:33:42.863999",
     "status": "completed"
    },
    "tags": []
   },
   "source": [
    "**The Model gives the Accuracy of 85.53 percentile**"
   ]
  }
 ],
 "metadata": {
  "kernelspec": {
   "display_name": "Python 3",
   "language": "python",
   "name": "python3"
  },
  "language_info": {
   "codemirror_mode": {
    "name": "ipython",
    "version": 3
   },
   "file_extension": ".py",
   "mimetype": "text/x-python",
   "name": "python",
   "nbconvert_exporter": "python",
   "pygments_lexer": "ipython3",
   "version": "3.7.10"
  },
  "papermill": {
   "default_parameters": {},
   "duration": 18.687842,
   "end_time": "2022-01-02T13:33:43.877942",
   "environment_variables": {},
   "exception": null,
   "input_path": "__notebook__.ipynb",
   "output_path": "__notebook__.ipynb",
   "parameters": {},
   "start_time": "2022-01-02T13:33:25.190100",
   "version": "2.3.3"
  }
 },
 "nbformat": 4,
 "nbformat_minor": 5
}
